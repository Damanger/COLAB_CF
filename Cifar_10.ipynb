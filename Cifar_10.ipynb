{
  "nbformat": 4,
  "nbformat_minor": 0,
  "metadata": {
    "colab": {
      "provenance": [],
      "authorship_tag": "ABX9TyNp57R1PQ5JCMqJ+XozCy9+",
      "include_colab_link": true
    },
    "kernelspec": {
      "name": "python3",
      "display_name": "Python 3"
    },
    "language_info": {
      "name": "python"
    }
  },
  "cells": [
    {
      "cell_type": "markdown",
      "metadata": {
        "id": "view-in-github",
        "colab_type": "text"
      },
      "source": [
        "<a href=\"https://colab.research.google.com/github/Damanger/COLAB_CF/blob/main/Cifar_10.ipynb\" target=\"_parent\"><img src=\"https://colab.research.google.com/assets/colab-badge.svg\" alt=\"Open In Colab\"/></a>"
      ]
    },
    {
      "cell_type": "code",
      "source": [
        "import pandas as pd\n",
        "import numpy as np\n",
        "import matplotlib.pyplot as plt"
      ],
      "metadata": {
        "id": "-6-sM7PcQ682"
      },
      "execution_count": 2,
      "outputs": []
    },
    {
      "cell_type": "code",
      "source": [
        "def unpickle(file):\n",
        "    import pickle\n",
        "    with open(file, 'rb') as fo:\n",
        "        dict = pickle.load(fo, encoding='bytes')\n",
        "    return dict"
      ],
      "metadata": {
        "id": "avaM9et0QWne"
      },
      "execution_count": 3,
      "outputs": []
    },
    {
      "cell_type": "code",
      "source": [
        "db1 = unpickle('data_batch_1')\n",
        "db1.keys()"
      ],
      "metadata": {
        "colab": {
          "base_uri": "https://localhost:8080/"
        },
        "id": "Uf3Fh_50QujL",
        "outputId": "76a236f5-0ef5-4d91-d42b-3260865519dd"
      },
      "execution_count": 4,
      "outputs": [
        {
          "output_type": "execute_result",
          "data": {
            "text/plain": [
              "dict_keys([b'batch_label', b'labels', b'data', b'filenames'])"
            ]
          },
          "metadata": {},
          "execution_count": 4
        }
      ]
    },
    {
      "cell_type": "code",
      "source": [
        "classes = {\n",
        "  0:\"airplane\",\n",
        "  1:\"automobile\",\n",
        "  2:\"bird\",\n",
        "  3:\"cat\",\n",
        "  4:\"deer\",\n",
        "  5:\"dog\",\n",
        "  6:\"frog\",\n",
        "  7:\"horse\",\n",
        "  8:\"ship\",\n",
        "  9:\"truck\"\n",
        "}"
      ],
      "metadata": {
        "id": "daXUR0-_Uz4e"
      },
      "execution_count": 5,
      "outputs": []
    },
    {
      "cell_type": "code",
      "source": [
        "data = db1[b'data']\n",
        "labels = db1[b'labels']\n",
        "filenames = db1[b'filenames']"
      ],
      "metadata": {
        "id": "JBDsQlhKRFDg"
      },
      "execution_count": 6,
      "outputs": []
    },
    {
      "cell_type": "code",
      "source": [
        "#Se transforman los datos para mantener los 3 canales de las 10K imágenes\n",
        "data = data.reshape(10000, 3, 32, 32).transpose(0, 2, 3, 1).astype(\"uint8\")\n",
        "print(data.shape)"
      ],
      "metadata": {
        "colab": {
          "base_uri": "https://localhost:8080/"
        },
        "id": "-ErngvHIRglB",
        "outputId": "e4f49eb6-036d-4320-8e2a-fa4462cea52c"
      },
      "execution_count": 7,
      "outputs": [
        {
          "output_type": "stream",
          "name": "stdout",
          "text": [
            "(10000, 32, 32, 3)\n"
          ]
        }
      ]
    },
    {
      "cell_type": "code",
      "source": [
        "plt.title(classes[labels[-1]])\n",
        "plt.axis('off')\n",
        "plt.imshow(data[-1])"
      ],
      "metadata": {
        "colab": {
          "base_uri": "https://localhost:8080/",
          "height": 446
        },
        "id": "mkt09ExeSH49",
        "outputId": "8fba46c8-224a-45f3-f830-f2468b74ce8d"
      },
      "execution_count": 8,
      "outputs": [
        {
          "output_type": "execute_result",
          "data": {
            "text/plain": [
              "<matplotlib.image.AxesImage at 0x7b7748496140>"
            ]
          },
          "metadata": {},
          "execution_count": 8
        },
        {
          "output_type": "display_data",
          "data": {
            "text/plain": [
              "<Figure size 640x480 with 1 Axes>"
            ],
            "image/png": "[encoded data removed]"
          },
          "metadata": {}
        }
      ]
    },
    {
      "cell_type": "code",
      "source": [],
      "metadata": {
        "id": "_Zkukcx3S6EJ"
      },
      "execution_count": 8,
      "outputs": []
    }
  ]
}